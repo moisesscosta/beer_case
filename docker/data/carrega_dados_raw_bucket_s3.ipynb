{
 "cells": [
  {
   "cell_type": "code",
   "execution_count": 3,
   "id": "ccc270c9-ce4c-4ac8-9706-2c98697a2370",
   "metadata": {},
   "outputs": [
    {
     "ename": "ModuleNotFoundError",
     "evalue": "No module named 'airflow'",
     "output_type": "error",
     "traceback": [
      "\u001b[1;31m---------------------------------------------------------------------------\u001b[0m",
      "\u001b[1;31mModuleNotFoundError\u001b[0m                       Traceback (most recent call last)",
      "Cell \u001b[1;32mIn[3], line 5\u001b[0m\n\u001b[0;32m      3\u001b[0m \u001b[38;5;28;01mimport\u001b[39;00m \u001b[38;5;21;01mjson\u001b[39;00m \n\u001b[0;32m      4\u001b[0m \u001b[38;5;28;01mimport\u001b[39;00m \u001b[38;5;21;01mpandas\u001b[39;00m \u001b[38;5;28;01mas\u001b[39;00m \u001b[38;5;21;01mpd\u001b[39;00m\n\u001b[1;32m----> 5\u001b[0m \u001b[38;5;28;01mfrom\u001b[39;00m \u001b[38;5;21;01mairflow\u001b[39;00m \u001b[38;5;28;01mimport\u001b[39;00m DAG\n",
      "\u001b[1;31mModuleNotFoundError\u001b[0m: No module named 'airflow'"
     ]
    }
   ],
   "source": [
    "### Criando um script \n",
    "import requests\n",
    "import json \n",
    "import pandas as pd\n",
    "from airflow import DAG"
   ]
  },
  {
   "cell_type": "code",
   "execution_count": 97,
   "id": "5a99d14e-b72d-439c-ac8a-b4357f2a0a0a",
   "metadata": {},
   "outputs": [],
   "source": [
    "### Criando variáveis\n",
    "url = \"https://api.openbrewerydb.org/v1/breweries\""
   ]
  },
  {
   "cell_type": "code",
   "execution_count": 98,
   "id": "6b1cf008-c0ca-4da9-82e2-83c629b48666",
   "metadata": {},
   "outputs": [
    {
     "data": {
      "text/plain": [
       "200"
      ]
     },
     "execution_count": 98,
     "metadata": {},
     "output_type": "execute_result"
    }
   ],
   "source": [
    "# 1. Faz a requisição para a API\n",
    "response = requests.get(url)\n",
    "\n",
    "### Verificando resposta\n",
    "response.status_code"
   ]
  },
  {
   "cell_type": "code",
   "execution_count": 105,
   "id": "8dec827b-d193-4150-a40d-dceef8773d70",
   "metadata": {},
   "outputs": [
    {
     "data": {
      "text/plain": [
       "[{'id': '5128df48-79fc-4f0f-8b52-d06be54d0cec',\n",
       "  'name': '(405) Brewing Co',\n",
       "  'brewery_type': 'micro',\n",
       "  'address_1': '1716 Topeka St',\n",
       "  'address_2': None,\n",
       "  'address_3': None,\n",
       "  'city': 'Norman',\n",
       "  'state_province': 'Oklahoma',\n",
       "  'postal_code': '73069-8224',\n",
       "  'country': 'United States',\n",
       "  'longitude': -97.46818222,\n",
       "  'latitude': 35.25738891,\n",
       "  'phone': '4058160490',\n",
       "  'website_url': 'http://www.405brewing.com',\n",
       "  'state': 'Oklahoma',\n",
       "  'street': '1716 Topeka St'},\n",
       " {'id': '9c5a66c8-cc13-416f-a5d9-0a769c87d318',\n",
       "  'name': '(512) Brewing Co',\n",
       "  'brewery_type': 'micro',\n",
       "  'address_1': '407 Radam Ln Ste F200',\n",
       "  'address_2': None,\n",
       "  'address_3': None,\n",
       "  'city': 'Austin',\n",
       "  'state_province': 'Texas',\n",
       "  'postal_code': '78745-1197',\n",
       "  'country': 'United States',\n",
       "  'longitude': None,\n",
       "  'latitude': None,\n",
       "  'phone': '5129211545',\n",
       "  'website_url': 'http://www.512brewing.com',\n",
       "  'state': 'Texas',\n",
       "  'street': '407 Radam Ln Ste F200'}]"
      ]
     },
     "execution_count": 105,
     "metadata": {},
     "output_type": "execute_result"
    }
   ],
   "source": [
    "# Demonstrando o retorno de dados com 2 itens por página.\n",
    "param_url = {'per_page': 2,\n",
    "             'page': 1 }\n",
    "# Realizando um request\n",
    "response = requests.request('GET', url= url, params = param_url)\n",
    "\n",
    "response.json()"
   ]
  },
  {
   "cell_type": "code",
   "execution_count": null,
   "id": "9cfc8d14-0bbb-4a84-87f0-406a1b209ac0",
   "metadata": {},
   "outputs": [],
   "source": [
    "## Abaixo a ideia é adicionar a resposta a uma lista\n",
    "## permitindo eu verificar se há dados em cada chamada\n",
    "## incrementando as páginas até chegar a ultima página"
   ]
  },
  {
   "cell_type": "code",
   "execution_count": 104,
   "id": "f14c9dfc-d673-4518-809d-d973e383c6cb",
   "metadata": {},
   "outputs": [
    {
     "name": "stdout",
     "output_type": "stream",
     "text": [
      "Total de páginas coletadas: 168\n",
      "Total de registros: 8370\n",
      "                                     id                     name brewery_type  \\\n",
      "0  5128df48-79fc-4f0f-8b52-d06be54d0cec         (405) Brewing Co        micro   \n",
      "1  9c5a66c8-cc13-416f-a5d9-0a769c87d318         (512) Brewing Co        micro   \n",
      "2  34e8c68b-6146-453f-a4b9-1f6cd99a5ada  1 of Us Brewing Company        micro   \n",
      "3  6d14b220-8926-4521-8d19-b98a2d6ec3db     10 Barrel Brewing Co        large   \n",
      "4  e2e78bd8-80ff-4a61-a65c-3bfbd9d76ce2     10 Barrel Brewing Co        large   \n",
      "\n",
      "                     address_1 address_2 address_3            city  \\\n",
      "0               1716 Topeka St      None      None          Norman   \n",
      "1        407 Radam Ln Ste F200      None      None          Austin   \n",
      "2          8100 Washington Ave      None      None  Mount Pleasant   \n",
      "3                62970 18th St      None      None            Bend   \n",
      "4  1135 NW Galveston Ave Ste B      None      None            Bend   \n",
      "\n",
      "  state_province postal_code        country   longitude   latitude  \\\n",
      "0       Oklahoma  73069-8224  United States  -97.468182  35.257389   \n",
      "1          Texas  78745-1197  United States         NaN        NaN   \n",
      "2      Wisconsin  53406-3920  United States  -87.883364  42.720108   \n",
      "3         Oregon  97701-9847  United States -121.281706  44.086835   \n",
      "4         Oregon  97703-2465  United States -121.328802  44.057565   \n",
      "\n",
      "        phone                   website_url      state  \\\n",
      "0  4058160490     http://www.405brewing.com   Oklahoma   \n",
      "1  5129211545     http://www.512brewing.com      Texas   \n",
      "2  2624847553  https://www.1ofusbrewing.com  Wisconsin   \n",
      "3  5415851007       http://www.10barrel.com     Oregon   \n",
      "4  5415851007                          None     Oregon   \n",
      "\n",
      "                        street  \n",
      "0               1716 Topeka St  \n",
      "1        407 Radam Ln Ste F200  \n",
      "2          8100 Washington Ave  \n",
      "3                62970 18th St  \n",
      "4  1135 NW Galveston Ave Ste B  \n"
     ]
    }
   ],
   "source": [
    "df_brew = pd.DataFrame()\n",
    "n = 1\n",
    "\n",
    "while True:\n",
    "    params = {\n",
    "        'per_page': 50,\n",
    "        'page': n      \n",
    "    }\n",
    "    try:\n",
    "        response = requests.get(url, params=params)\n",
    "        response.raise_for_status()  # Verifica erros HTTP\n",
    "        \n",
    "        # A API retorna uma lista diretamente, não um dicionário com 'items'\n",
    "        breweries = response.json()  # Isso já é a lista de cervejarias\n",
    "        \n",
    "        if len(breweries) > 0:\n",
    "            df_brew = pd.concat([df_brew, pd.DataFrame(breweries)])\n",
    "            n += 1\n",
    "        else:\n",
    "            break\n",
    "    except requests.exceptions.RequestException as e:\n",
    "        print(f\"Erro na página {n}: {e}\")\n",
    "        break\n",
    "\n",
    "# Resultado final\n",
    "print(f\"Total de páginas coletadas: {n-1}\")\n",
    "print(f\"Total de registros: {len(df_brew)}\")\n",
    "print(df_brew.head())"
   ]
  },
  {
   "cell_type": "code",
   "execution_count": null,
   "id": "a83a193e-35d9-4766-81c7-36047f370230",
   "metadata": {},
   "outputs": [],
   "source": [
    "### Criando um script \n",
    "import requests\n",
    "import json \n",
    "import pandas as pd\n",
    "\n",
    "### Criando variável com o link do endpoint\n",
    "url = \"https://api.openbrewerydb.org/v1/breweries\"\n",
    "\n",
    "# Faço uma requisição\n",
    "response = requests.get(url)\n",
    "\n",
    "### Verifico resposta\n",
    "##response.status_code\n",
    "\n",
    "## Crio um dataframe\n",
    "df_brew = pd.DataFrame()\n",
    "\n",
    "n = 1\n",
    "\n",
    "while True:\n",
    "    params = {\n",
    "        'per_page': 50,\n",
    "        'page': n      \n",
    "    }\n",
    "    try:\n",
    "        response = requests.get(url, params=params)\n",
    "        response.raise_for_status()  # Verifica erros HTTP\n",
    "        \n",
    "        # A API retorna uma lista diretamente, não um dicionário com 'items'\n",
    "        breweries = response.json()  # Isso já é a lista de cervejarias\n",
    "        \n",
    "        if len(breweries) > 0:\n",
    "            df_brew = pd.concat([df_brew, pd.DataFrame(breweries)])\n",
    "            n += 1\n",
    "        else:\n",
    "            break\n",
    "    except requests.exceptions.RequestException as e:\n",
    "        print(f\"Erro na página {n}: {e}\")\n",
    "        break\n",
    "\n",
    "# Resultado final\n",
    "print(f\"Total de páginas coletadas: {n-1}\")\n",
    "print(f\"Total de registros: {len(df_brew)}\")\n",
    "print(df_brew.head())"
   ]
  },
  {
   "cell_type": "code",
   "execution_count": 2,
   "id": "ba791dbf-f906-47b5-bd85-ea6c277aa1a9",
   "metadata": {},
   "outputs": [],
   "source": [
    "import requests\n",
    "import json\n",
    "\n",
    "### Criando variável com o link do endpoint\n",
    "url = \"https://api.openbrewerydb.org/v1/breweries\"\n",
    "\n",
    "# Lista para armazenar todas as cervejarias\n",
    "all_breweries = []\n",
    "\n",
    "n = 1\n",
    "\n",
    "while True:\n",
    "    params = {\n",
    "        'per_page': 50,\n",
    "        'page': n      \n",
    "    }\n",
    "    try:\n",
    "        response = requests.get(url, params=params)\n",
    "        response.raise_for_status()  # Verifica erros HTTP\n",
    "        \n",
    "        breweries = response.json()  # Lista de cervejarias da página atual\n",
    "        \n",
    "        if len(breweries) > 0:\n",
    "            all_breweries.extend(breweries)  # Adiciona à lista principal\n",
    "            n += 1\n",
    "        else:\n",
    "            break\n",
    "    except requests.exceptions.RequestException as e:\n",
    "        print(f\"Erro na página {n}: {e}\")\n",
    "        break\n",
    "\n",
    "# Salva todos os dados em um arquivo JSON\n",
    "with open('breweries.json', 'w', encoding='utf-8') as f:\n",
    "    json.dump(all_breweries, f, ensure_ascii=False, indent=4)"
   ]
  }
 ],
 "metadata": {
  "kernelspec": {
   "display_name": "Python 3 (ipykernel)",
   "language": "python",
   "name": "python3"
  },
  "language_info": {
   "codemirror_mode": {
    "name": "ipython",
    "version": 3
   },
   "file_extension": ".py",
   "mimetype": "text/x-python",
   "name": "python",
   "nbconvert_exporter": "python",
   "pygments_lexer": "ipython3",
   "version": "3.11.7"
  }
 },
 "nbformat": 4,
 "nbformat_minor": 5
}
