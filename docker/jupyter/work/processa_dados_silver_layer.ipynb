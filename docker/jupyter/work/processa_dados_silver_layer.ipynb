{
 "cells": [
  {
   "cell_type": "code",
   "execution_count": 14,
   "id": "0ac38ff0-348d-4c62-87e7-1feb4d9e02ff",
   "metadata": {},
   "outputs": [],
   "source": [
    "import os\n",
    "from pyspark.sql import SparkSession\n",
    "import pandas as pd\n",
    "\n",
    "# Caminho Python\n",
    "# Aqui tive que definir o python que estava usando na minha maquina\n",
    "PYTHON_PATH = r\"C:\\Users\\Moises Drummer\\anaconda3\\python.exe\"\n",
    "\n",
    "# Passando variáveis spark\n",
    "os.environ[\"PYSPARK_PYTHON\"] = PYTHON_PATH\n",
    "os.environ[\"PYSPARK_DRIVER_PYTHON\"] = PYTHON_PATH\n",
    "os.environ[\"HADOOP_OPTIONAL_TOOLS\"] = \"true\"\n"
   ]
  },
  {
   "cell_type": "code",
   "execution_count": 15,
   "id": "f288de31-2905-4229-a46a-7869492fa385",
   "metadata": {},
   "outputs": [
    {
     "name": "stdout",
     "output_type": "stream",
     "text": [
      "                                     id                     name brewery_type  \\\n",
      "0  5128df48-79fc-4f0f-8b52-d06be54d0cec         (405) Brewing Co        micro   \n",
      "1  9c5a66c8-cc13-416f-a5d9-0a769c87d318         (512) Brewing Co        micro   \n",
      "2  34e8c68b-6146-453f-a4b9-1f6cd99a5ada  1 of Us Brewing Company        micro   \n",
      "3  6d14b220-8926-4521-8d19-b98a2d6ec3db     10 Barrel Brewing Co        large   \n",
      "4  e2e78bd8-80ff-4a61-a65c-3bfbd9d76ce2     10 Barrel Brewing Co        large   \n",
      "\n",
      "                     address_1 address_2 address_3            city  \\\n",
      "0               1716 Topeka St      None      None          Norman   \n",
      "1        407 Radam Ln Ste F200      None      None          Austin   \n",
      "2          8100 Washington Ave      None      None  Mount Pleasant   \n",
      "3                62970 18th St      None      None            Bend   \n",
      "4  1135 NW Galveston Ave Ste B      None      None            Bend   \n",
      "\n",
      "  state_province postal_code        country   longitude   latitude  \\\n",
      "0       Oklahoma  73069-8224  United States  -97.468182  35.257389   \n",
      "1          Texas  78745-1197  United States         NaN        NaN   \n",
      "2      Wisconsin  53406-3920  United States  -87.883364  42.720108   \n",
      "3         Oregon  97701-9847  United States -121.281706  44.086835   \n",
      "4         Oregon  97703-2465  United States -121.328802  44.057565   \n",
      "\n",
      "        phone                   website_url      state  \\\n",
      "0  4058160490     http://www.405brewing.com   Oklahoma   \n",
      "1  5129211545     http://www.512brewing.com      Texas   \n",
      "2  2624847553  https://www.1ofusbrewing.com  Wisconsin   \n",
      "3  5415851007       http://www.10barrel.com     Oregon   \n",
      "4  5415851007                          None     Oregon   \n",
      "\n",
      "                        street  \n",
      "0               1716 Topeka St  \n",
      "1        407 Radam Ln Ste F200  \n",
      "2          8100 Washington Ave  \n",
      "3                62970 18th St  \n",
      "4  1135 NW Galveston Ave Ste B  \n"
     ]
    }
   ],
   "source": [
    "# Aqui selecionei um diretório local:\n",
    "file_path = \"C:/Users/Moises Drummer/repo/beer_case/docker/jupyter/data/breweries.json\"\n",
    "\n",
    "# Crio as configurações do Spark Session\n",
    "spark = SparkSession.builder \\\n",
    "        .master(\"local[1]\") \\\n",
    "        .config(\"spark.driver.memory\", \"1g\") \\\n",
    "        .config(\"spark.local.dir\", \"C:/temp/spark-temp\") \\\n",
    "        .config(\"spark.hadoop.hadoop.native.io\", \"false\") \\\n",
    "        .appName(\"Processed_layer\") \\\n",
    "        .getOrCreate()\n",
    "# Carrega o json para um dataFrame\n",
    "silver_df = pd.read_json(file_path)\n",
    "silver_c = pd.read_json(file_path)\n",
    "\n",
    "spark_df = spark.createDataFrame(silver_df)\n",
    "# Mostro as 5 primeiras linhas\n",
    "print(silver_df.head())"
   ]
  },
  {
   "cell_type": "code",
   "execution_count": 16,
   "id": "5b41b8bc-a188-4ee0-9029-4aa1ec20cca9",
   "metadata": {},
   "outputs": [
    {
     "data": {
      "text/plain": [
       "id                 0\n",
       "name               0\n",
       "brewery_type       0\n",
       "address_1        757\n",
       "address_2       8260\n",
       "dtype: int64"
      ]
     },
     "execution_count": 16,
     "metadata": {},
     "output_type": "execute_result"
    }
   ],
   "source": [
    "## Crio um dataframe apenas para verificar campos que contém muitos nulos\n",
    "verifica_null = silver_c.isnull().sum()\n",
    "verifica_null.head()"
   ]
  },
  {
   "cell_type": "code",
   "execution_count": 19,
   "id": "b1f02242-769b-44d7-b754-92d3304cfb9b",
   "metadata": {},
   "outputs": [],
   "source": [
    "# Faço um tratamento em alguns campos\n",
    "\n",
    "silver_df = spark_df.select(\n",
    "        col(\"id\"),\n",
    "        col(\"name\"),\n",
    "        col(\"brewery_type\"),\n",
    "        col(\"street\"),\n",
    "        col(\"city\"),\n",
    "        col(\"state\"),\n",
    "        col(\"postal_code\"),\n",
    "        col(\"country\"),\n",
    "        col(\"longitude\"),\n",
    "        col(\"latitude\"),\n",
    "        col(\"phone\"),\n",
    "        col(\"website_url\"),\n",
    "        col(\"address_2\"),\n",
    "        col(\"address_3\")\n",
    "    )\\\n",
    "    .withColumn(\"address_2\", when(col(\"address_2\").isNull(), \"N/A\").otherwise(col(\"address_2\")))"
   ]
  },
  {
   "cell_type": "code",
   "execution_count": 20,
   "id": "6b4a67d9-562c-4384-b61f-4bbecd5ecde7",
   "metadata": {},
   "outputs": [],
   "source": [
    "# Converto para Pandas e escrever arquivos parquet em um repositório local.\n",
    "silver_output_path = \"file:///C:/Users/Moises Drummer/repo/beer_case/docker/minio/data1/silver-layer\"\n",
    "silver_layer = silver_df.toPandas()\n",
    "silver_layer.to_parquet(silver_output_path.replace(\"file:///\", \"\"), partition_cols=[\"country\"])"
   ]
  },
  {
   "cell_type": "code",
   "execution_count": null,
   "id": "75a77755-69ec-4864-b594-6a1d9f18eb94",
   "metadata": {},
   "outputs": [],
   "source": []
  }
 ],
 "metadata": {
  "kernelspec": {
   "display_name": "Python 3 (ipykernel)",
   "language": "python",
   "name": "python3"
  },
  "language_info": {
   "codemirror_mode": {
    "name": "ipython",
    "version": 3
   },
   "file_extension": ".py",
   "mimetype": "text/x-python",
   "name": "python",
   "nbconvert_exporter": "python",
   "pygments_lexer": "ipython3",
   "version": "3.11.7"
  }
 },
 "nbformat": 4,
 "nbformat_minor": 5
}
